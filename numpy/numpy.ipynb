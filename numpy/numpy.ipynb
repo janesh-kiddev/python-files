{
  "nbformat": 4,
  "nbformat_minor": 0,
  "metadata": {
    "colab": {
      "provenance": [],
      "authorship_tag": "ABX9TyNLDRy9j3nh8aDiCnB8aBwg",
      "include_colab_link": true
    },
    "kernelspec": {
      "name": "python3",
      "display_name": "Python 3"
    },
    "language_info": {
      "name": "python"
    }
  },
  "cells": [
    {
      "cell_type": "markdown",
      "metadata": {
        "id": "view-in-github",
        "colab_type": "text"
      },
      "source": [
        "<a href=\"https://colab.research.google.com/github/janesh-kiddev/python-files/blob/main/numpy/numpy.ipynb\" target=\"_parent\"><img src=\"https://colab.research.google.com/assets/colab-badge.svg\" alt=\"Open In Colab\"/></a>"
      ]
    },
    {
      "cell_type": "code",
      "execution_count": null,
      "metadata": {
        "id": "SUDoTJ7Y-6f-"
      },
      "outputs": [],
      "source": [
        "import numpy as np\n"
      ]
    },
    {
      "cell_type": "code",
      "source": [
        "ar = np.array([23,3,3,3,3,3])\n",
        "print(ar)\n",
        "dr = np.array(45)\n",
        "print(dr)"
      ],
      "metadata": {
        "colab": {
          "base_uri": "https://localhost:8080/"
        },
        "id": "4wT8p2fC_ZRf",
        "outputId": "d4f86a4d-34a5-4ef5-ed52-dc5e8622724a"
      },
      "execution_count": null,
      "outputs": [
        {
          "output_type": "stream",
          "name": "stdout",
          "text": [
            "[23  3  3  3  3  3]\n",
            "45\n"
          ]
        }
      ]
    },
    {
      "cell_type": "code",
      "source": [
        "darry = np.array([[1,2,3],[4,5,6]])\n",
        "print(darry)\n",
        "# displays the dimension\n",
        "print(darry.ndim)"
      ],
      "metadata": {
        "colab": {
          "base_uri": "https://localhost:8080/"
        },
        "id": "uPqLOWIa_qIg",
        "outputId": "384de7c8-7068-495f-999a-64e48d244d96"
      },
      "execution_count": null,
      "outputs": [
        {
          "output_type": "stream",
          "name": "stdout",
          "text": [
            "[[1 2 3]\n",
            " [4 5 6]]\n",
            "2\n"
          ]
        }
      ]
    },
    {
      "cell_type": "code",
      "source": [
        "arr = np.array([1, 2, 3, 4], ndmin=5)\n",
        "print(arr)\n",
        "print('number of dimensions :', arr.ndim)\n",
        "k = np.array([1,2,2])\n",
        "#indexing\n",
        "print(k[0])"
      ],
      "metadata": {
        "colab": {
          "base_uri": "https://localhost:8080/"
        },
        "id": "yu7ay-djBTbH",
        "outputId": "5572d4a9-fa39-4270-fb64-cb5cb20323cc"
      },
      "execution_count": 34,
      "outputs": [
        {
          "output_type": "stream",
          "name": "stdout",
          "text": [
            "[[[[[1 2 3 4]]]]]\n",
            "number of dimensions : 5\n",
            "1\n"
          ]
        }
      ]
    },
    {
      "cell_type": "code",
      "source": [
        "catch = np.array([[1, 2, 3, 4],[6, 7, 8, 9]])\n",
        "#silcing\n",
        "print(catch[1,1])\n"
      ],
      "metadata": {
        "colab": {
          "base_uri": "https://localhost:8080/"
        },
        "id": "3FIsuS0MCT0x",
        "outputId": "d3fc4ee7-81c0-45b4-8c29-8e335408eea9"
      },
      "execution_count": null,
      "outputs": [
        {
          "output_type": "stream",
          "name": "stdout",
          "text": [
            "7\n"
          ]
        }
      ]
    },
    {
      "cell_type": "code",
      "source": [
        "#access the values from start to endpoint\n",
        "np.arange(50,60,1)\n",
        "np.arange(50,60,2)"
      ],
      "metadata": {
        "colab": {
          "base_uri": "https://localhost:8080/"
        },
        "id": "pJl_xuQdDeAm",
        "outputId": "db08094b-2d01-4b4f-de84-b3c14f9949dd"
      },
      "execution_count": 19,
      "outputs": [
        {
          "output_type": "execute_result",
          "data": {
            "text/plain": [
              "array([50, 52, 54, 56, 58])"
            ]
          },
          "metadata": {},
          "execution_count": 19
        }
      ]
    },
    {
      "cell_type": "code",
      "source": [
        "#to get the random numbers in float\n",
        "np.random.uniform(5,10,size=4)\n",
        "np.random.uniform(10,15,size = 10)"
      ],
      "metadata": {
        "colab": {
          "base_uri": "https://localhost:8080/"
        },
        "id": "ASf1jejDEckk",
        "outputId": "8fa50705-8197-48ef-b2af-9f2b20fceb6b"
      },
      "execution_count": 20,
      "outputs": [
        {
          "output_type": "execute_result",
          "data": {
            "text/plain": [
              "array([11.3843963 , 14.47653465, 13.14007609, 10.87468485, 11.49464989,\n",
              "       11.75208327, 11.70151748, 14.60287534, 13.6864829 , 12.51117483])"
            ]
          },
          "metadata": {},
          "execution_count": 20
        }
      ]
    },
    {
      "cell_type": "code",
      "source": [
        "np.random.uniform(50,60,size = 6)\n"
      ],
      "metadata": {
        "colab": {
          "base_uri": "https://localhost:8080/"
        },
        "id": "klae5VjOFJAa",
        "outputId": "3f7bf765-5fae-4f30-c216-96dbc9058dcf"
      },
      "execution_count": null,
      "outputs": [
        {
          "output_type": "execute_result",
          "data": {
            "text/plain": [
              "array([58.40544912, 59.60193908, 50.86753032, 50.0229582 , 53.32465565,\n",
              "       59.72250703])"
            ]
          },
          "metadata": {},
          "execution_count": 10
        }
      ]
    },
    {
      "cell_type": "code",
      "source": [
        "# generate random numbers in float\n",
        "np.random.rand(1,2)\n",
        "np.random.rand(10,12)"
      ],
      "metadata": {
        "colab": {
          "base_uri": "https://localhost:8080/"
        },
        "id": "7WmePdYzFpqa",
        "outputId": "b743307d-f35e-472a-8fea-8e0fa9bdd6ff"
      },
      "execution_count": 21,
      "outputs": [
        {
          "output_type": "execute_result",
          "data": {
            "text/plain": [
              "array([[0.28429694, 0.80204447, 0.43784767, 0.95681723, 0.73278024,\n",
              "        0.44437223, 0.23064376, 0.85073369, 0.34548332, 0.36377161,\n",
              "        0.34990244, 0.29181942],\n",
              "       [0.09406151, 0.80341521, 0.27963075, 0.42353504, 0.1707698 ,\n",
              "        0.30971355, 0.64372067, 0.20617016, 0.53138997, 0.1485692 ,\n",
              "        0.01770355, 0.34867807],\n",
              "       [0.81670108, 0.33926732, 0.3606786 , 0.38034313, 0.12172289,\n",
              "        0.67773468, 0.86924009, 0.6003458 , 0.51574862, 0.57725878,\n",
              "        0.69167231, 0.7874419 ],\n",
              "       [0.02767362, 0.95742899, 0.02215841, 0.33414555, 0.48881239,\n",
              "        0.98204254, 0.17275016, 0.01338197, 0.71806973, 0.05554771,\n",
              "        0.77253216, 0.94802514],\n",
              "       [0.45881948, 0.06546004, 0.27559806, 0.76927674, 0.33646929,\n",
              "        0.52895153, 0.3604541 , 0.53104056, 0.2768851 , 0.49072888,\n",
              "        0.494298  , 0.36924575],\n",
              "       [0.92573075, 0.360481  , 0.0678856 , 0.09440896, 0.37400395,\n",
              "        0.80686024, 0.35164085, 0.86563914, 0.10526049, 0.30768226,\n",
              "        0.93160607, 0.49292059],\n",
              "       [0.53117795, 0.80323564, 0.64556704, 0.31241843, 0.03643855,\n",
              "        0.35106096, 0.81936468, 0.54820466, 0.82756476, 0.40686031,\n",
              "        0.23890354, 0.50604848],\n",
              "       [0.3687297 , 0.46431423, 0.07879843, 0.75037815, 0.94215918,\n",
              "        0.49486783, 0.68220247, 0.33450451, 0.11069882, 0.71933395,\n",
              "        0.52670055, 0.03856666],\n",
              "       [0.55294482, 0.19545588, 0.78676147, 0.27839028, 0.71500176,\n",
              "        0.93980317, 0.98506379, 0.64581203, 0.88511221, 0.43675364,\n",
              "        0.61237448, 0.20882796],\n",
              "       [0.60430011, 0.21190518, 0.3948016 , 0.08993576, 0.93688648,\n",
              "        0.554512  , 0.09127821, 0.91533056, 0.76953423, 0.61921193,\n",
              "        0.25316007, 0.69313803]])"
            ]
          },
          "metadata": {},
          "execution_count": 21
        }
      ]
    },
    {
      "cell_type": "code",
      "source": [
        "np.random.random_integers(1,10)#return sthe random intgers"
      ],
      "metadata": {
        "colab": {
          "base_uri": "https://localhost:8080/"
        },
        "id": "DA8yNUvZGLUq",
        "outputId": "49af939d-1bdd-48cb-edbf-d1a53a742d2a"
      },
      "execution_count": 23,
      "outputs": [
        {
          "output_type": "stream",
          "name": "stderr",
          "text": [
            "<ipython-input-23-c8e21f3575da>:1: DeprecationWarning: This function is deprecated. Please call randint(1, 10 + 1) instead\n",
            "  np.random.random_integers(1,10)\n"
          ]
        },
        {
          "output_type": "execute_result",
          "data": {
            "text/plain": [
              "4"
            ]
          },
          "metadata": {},
          "execution_count": 23
        }
      ]
    },
    {
      "cell_type": "code",
      "source": [],
      "metadata": {
        "id": "WKSXBKwbGd3p",
        "colab": {
          "base_uri": "https://localhost:8080/"
        },
        "outputId": "5bc09821-8356-4255-a95c-0974165305a0"
      },
      "execution_count": 24,
      "outputs": [
        {
          "output_type": "stream",
          "name": "stdout",
          "text": [
            "data type int64\n",
            "matrix shape (1, 1, 1, 1, 4)\n",
            "dimension 5\n",
            "size 4\n",
            "item size in Bytes 8\n",
            "array size in Bytes 32\n"
          ]
        }
      ]
    },
    {
      "cell_type": "code",
      "source": [
        "dr = np.array([[1,2,3,4,5],[6,7,8,9,10]])\n",
        "print(dr)"
      ],
      "metadata": {
        "colab": {
          "base_uri": "https://localhost:8080/"
        },
        "id": "Yh6nPFG8wM2Y",
        "outputId": "0bf4ad51-cdad-45ab-b418-161ecf335d4f"
      },
      "execution_count": 16,
      "outputs": [
        {
          "output_type": "stream",
          "name": "stdout",
          "text": [
            "[[ 1  2  3  4  5]\n",
            " [ 6  7  8  9 10]]\n"
          ]
        }
      ]
    },
    {
      "cell_type": "code",
      "source": [
        "print(dr.dtype)# represent the datatype\n",
        "print(dr.itemsize)#displays th item size\n",
        "print(dr.ndim)# display the size of aray\n",
        "print(dr.shape)#returns the rows and colums\n",
        "print(dr.nbytes)#retruns the bytes\n",
        "print(dr.size)#retrns the totla element present in it"
      ],
      "metadata": {
        "colab": {
          "base_uri": "https://localhost:8080/"
        },
        "id": "Yg9q1NfczvpH",
        "outputId": "b33b11ba-b1a4-4cdd-b450-d87cb42904d9"
      },
      "execution_count": 31,
      "outputs": [
        {
          "output_type": "stream",
          "name": "stdout",
          "text": [
            "int64\n",
            "8\n",
            "2\n",
            "(2, 5)\n",
            "80\n",
            "10\n"
          ]
        }
      ]
    },
    {
      "cell_type": "code",
      "source": [
        "dx = np.array([[[1,2,3,4,5,6],[7,8,9,10,11,12]],[[13,14,15,16,17,18],[19,20,21,22,23,24]]])\n",
        "print(dx)"
      ],
      "metadata": {
        "colab": {
          "base_uri": "https://localhost:8080/"
        },
        "id": "mYUpQeul53X8",
        "outputId": "a89df21b-417a-4c9e-a772-365b54fa88e0"
      },
      "execution_count": 33,
      "outputs": [
        {
          "output_type": "stream",
          "name": "stdout",
          "text": [
            "[[[ 1  2  3  4  5  6]\n",
            "  [ 7  8  9 10 11 12]]\n",
            "\n",
            " [[13 14 15 16 17 18]\n",
            "  [19 20 21 22 23 24]]]\n"
          ]
        }
      ]
    },
    {
      "cell_type": "code",
      "source": [
        "arr = np.array([[0,1,2,3,4,5]])\n",
        "print(arr)\n",
        "y = [arr % 2 == 0]\n",
        "print(y)"
      ],
      "metadata": {
        "colab": {
          "base_uri": "https://localhost:8080/"
        },
        "id": "AIhyb7Wc79ry",
        "outputId": "05722626-8ac1-49db-be16-4bba59dc796e"
      },
      "execution_count": 41,
      "outputs": [
        {
          "output_type": "stream",
          "name": "stdout",
          "text": [
            "[[0 1 2 3 4 5]]\n",
            "[array([[ True, False,  True, False,  True, False]])]\n"
          ]
        }
      ]
    },
    {
      "cell_type": "code",
      "source": [
        "arr = np.array([[1,2,3,4,5],[6,7,8,9,10]])\n",
        "arr"
      ],
      "metadata": {
        "colab": {
          "base_uri": "https://localhost:8080/"
        },
        "id": "_7wn6gj596vu",
        "outputId": "1b3e5f97-0542-4653-e055-2542fa1b2714"
      },
      "execution_count": 44,
      "outputs": [
        {
          "output_type": "execute_result",
          "data": {
            "text/plain": [
              "array([[ 1,  2,  3,  4,  5],\n",
              "       [ 6,  7,  8,  9, 10]])"
            ]
          },
          "metadata": {},
          "execution_count": 44
        }
      ]
    },
    {
      "cell_type": "code",
      "source": [
        "arr[0][1]"
      ],
      "metadata": {
        "colab": {
          "base_uri": "https://localhost:8080/"
        },
        "id": "gBW-Hzio-VoW",
        "outputId": "3406594a-6c4a-4ef0-e262-63c1979d8462"
      },
      "execution_count": 46,
      "outputs": [
        {
          "output_type": "execute_result",
          "data": {
            "text/plain": [
              "2"
            ]
          },
          "metadata": {},
          "execution_count": 46
        }
      ]
    },
    {
      "cell_type": "code",
      "source": [
        "arr[:,1:3]"
      ],
      "metadata": {
        "colab": {
          "base_uri": "https://localhost:8080/"
        },
        "id": "Jdrvqhy9AvoH",
        "outputId": "eb301026-742d-4519-9156-6d6ed3f1e2f1"
      },
      "execution_count": 48,
      "outputs": [
        {
          "output_type": "execute_result",
          "data": {
            "text/plain": [
              "array([[2, 3],\n",
              "       [7, 8]])"
            ]
          },
          "metadata": {},
          "execution_count": 48
        }
      ]
    }
  ]
}