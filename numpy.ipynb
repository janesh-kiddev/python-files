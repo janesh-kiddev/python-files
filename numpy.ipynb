{
  "nbformat": 4,
  "nbformat_minor": 0,
  "metadata": {
    "colab": {
      "provenance": [],
      "authorship_tag": "ABX9TyOiZnaSjjWesy7AUZJbwNyX",
      "include_colab_link": true
    },
    "kernelspec": {
      "name": "python3",
      "display_name": "Python 3"
    },
    "language_info": {
      "name": "python"
    }
  },
  "cells": [
    {
      "cell_type": "markdown",
      "metadata": {
        "id": "view-in-github",
        "colab_type": "text"
      },
      "source": [
        "<a href=\"https://colab.research.google.com/github/janesh-kiddev/python-files/blob/main/numpy.ipynb\" target=\"_parent\"><img src=\"https://colab.research.google.com/assets/colab-badge.svg\" alt=\"Open In Colab\"/></a>"
      ]
    },
    {
      "cell_type": "code",
      "execution_count": 4,
      "metadata": {
        "id": "SUDoTJ7Y-6f-"
      },
      "outputs": [],
      "source": [
        "import numpy as np\n"
      ]
    },
    {
      "cell_type": "code",
      "source": [
        "ar = np.array([23,3,3,3,3,3])\n",
        "print(ar)\n",
        "dr = np.array(45)\n",
        "print(dr)"
      ],
      "metadata": {
        "colab": {
          "base_uri": "https://localhost:8080/"
        },
        "id": "4wT8p2fC_ZRf",
        "outputId": "45247aab-2e2b-4341-86da-644ee0e89c8b"
      },
      "execution_count": 5,
      "outputs": [
        {
          "output_type": "stream",
          "name": "stdout",
          "text": [
            "[23  3  3  3  3  3]\n",
            "45\n"
          ]
        }
      ]
    },
    {
      "cell_type": "code",
      "source": [
        "darry = np.array([[1,2,3],[4,5,6]])\n",
        "print(darry)\n",
        "# displays the dimension\n",
        "print(darry.ndim)"
      ],
      "metadata": {
        "colab": {
          "base_uri": "https://localhost:8080/"
        },
        "id": "uPqLOWIa_qIg",
        "outputId": "77701e42-7c80-4401-f767-c2bb6eecb8c0"
      },
      "execution_count": 6,
      "outputs": [
        {
          "output_type": "stream",
          "name": "stdout",
          "text": [
            "[[1 2 3]\n",
            " [4 5 6]]\n",
            "2\n"
          ]
        }
      ]
    },
    {
      "cell_type": "code",
      "source": [
        "arr = np.array([1, 2, 3, 4], ndmin=5)\n",
        "print(arr)\n",
        "print('number of dimensions :', arr.ndim)\n",
        "k = np.array([1,2,2])\n",
        "#indexing\n",
        "print(k[0])"
      ],
      "metadata": {
        "colab": {
          "base_uri": "https://localhost:8080/"
        },
        "id": "yu7ay-djBTbH",
        "outputId": "f2f8117e-2439-482a-cdac-5d2816c6af60"
      },
      "execution_count": 7,
      "outputs": [
        {
          "output_type": "stream",
          "name": "stdout",
          "text": [
            "[[[[[1 2 3 4]]]]]\n",
            "number of dimensions : 5\n",
            "1\n"
          ]
        }
      ]
    },
    {
      "cell_type": "code",
      "source": [
        "catch = np.array([[1, 2, 3, 4],[6, 7, 8, 9]])\n",
        "#silcing\n",
        "print(catch[1,1])\n"
      ],
      "metadata": {
        "colab": {
          "base_uri": "https://localhost:8080/"
        },
        "id": "3FIsuS0MCT0x",
        "outputId": "75bd30d2-db39-4ca1-9fba-3a10a6ced21d"
      },
      "execution_count": 8,
      "outputs": [
        {
          "output_type": "stream",
          "name": "stdout",
          "text": [
            "7\n"
          ]
        }
      ]
    },
    {
      "cell_type": "code",
      "source": [
        "#access the values from start to endpoint\n",
        "np.arange(50,60,1)\n",
        "np.arange(50,60,2)"
      ],
      "metadata": {
        "colab": {
          "base_uri": "https://localhost:8080/"
        },
        "id": "pJl_xuQdDeAm",
        "outputId": "50c933f5-b1ff-4f99-9e30-54b3bc93ddaf"
      },
      "execution_count": 9,
      "outputs": [
        {
          "output_type": "execute_result",
          "data": {
            "text/plain": [
              "array([50, 52, 54, 56, 58])"
            ]
          },
          "metadata": {},
          "execution_count": 9
        }
      ]
    },
    {
      "cell_type": "code",
      "source": [
        "#to get the random numbers in float\n",
        "np.random.uniform(5,10,size=4)\n",
        "np.random.uniform(10,15,size = 10)"
      ],
      "metadata": {
        "colab": {
          "base_uri": "https://localhost:8080/"
        },
        "id": "ASf1jejDEckk",
        "outputId": "9d9a3b0f-4224-4fb2-a88c-598016327f93"
      },
      "execution_count": 10,
      "outputs": [
        {
          "output_type": "execute_result",
          "data": {
            "text/plain": [
              "array([11.16801038, 12.44432452, 14.60308456, 14.42879214, 14.80017493,\n",
              "       11.36367008, 12.18090679, 14.35662143, 13.77196561, 11.98604588])"
            ]
          },
          "metadata": {},
          "execution_count": 10
        }
      ]
    },
    {
      "cell_type": "code",
      "source": [
        "np.random.uniform(50,60,size = 6)\n"
      ],
      "metadata": {
        "colab": {
          "base_uri": "https://localhost:8080/"
        },
        "id": "klae5VjOFJAa",
        "outputId": "accef730-9443-44dd-966d-006924039e1e"
      },
      "execution_count": 11,
      "outputs": [
        {
          "output_type": "execute_result",
          "data": {
            "text/plain": [
              "array([57.77549383, 59.52110193, 50.57696533, 52.3552636 , 59.58614267,\n",
              "       53.38450153])"
            ]
          },
          "metadata": {},
          "execution_count": 11
        }
      ]
    },
    {
      "cell_type": "code",
      "source": [
        "# generate random numbers in float\n",
        "np.random.rand(1,2)\n",
        "np.random.rand(10,12)"
      ],
      "metadata": {
        "colab": {
          "base_uri": "https://localhost:8080/"
        },
        "id": "7WmePdYzFpqa",
        "outputId": "a2f43aee-dd33-428f-ee29-d3b949a57edc"
      },
      "execution_count": 12,
      "outputs": [
        {
          "output_type": "execute_result",
          "data": {
            "text/plain": [
              "array([[0.39674228, 0.83176803, 0.23060072, 0.29333329, 0.23139277,\n",
              "        0.56501241, 0.71915745, 0.17348288, 0.86385359, 0.3010323 ,\n",
              "        0.87245994, 0.92220043],\n",
              "       [0.01933875, 0.57609688, 0.23274058, 0.77268729, 0.13056514,\n",
              "        0.81862065, 0.96021451, 0.05226272, 0.85971995, 0.09965244,\n",
              "        0.21312782, 0.3703566 ],\n",
              "       [0.21355299, 0.79483393, 0.86682888, 0.94690961, 0.94003246,\n",
              "        0.33532203, 0.42838688, 0.23326263, 0.22797385, 0.13238103,\n",
              "        0.42301151, 0.6350078 ],\n",
              "       [0.71416486, 0.87244642, 0.93675337, 0.3944651 , 0.03737033,\n",
              "        0.32688656, 0.55800347, 0.08387553, 0.1377947 , 0.65454812,\n",
              "        0.57395382, 0.90559328],\n",
              "       [0.3193629 , 0.62088547, 0.73650677, 0.37193937, 0.4565153 ,\n",
              "        0.67085452, 0.31120176, 0.88963136, 0.23642749, 0.36469996,\n",
              "        0.18192105, 0.13522852],\n",
              "       [0.43283362, 0.10888293, 0.46114365, 0.68185676, 0.4944934 ,\n",
              "        0.18427099, 0.507355  , 0.41296497, 0.684322  , 0.75646239,\n",
              "        0.14915779, 0.22991454],\n",
              "       [0.81688539, 0.33447704, 0.23212975, 0.1593339 , 0.53666095,\n",
              "        0.22781726, 0.04062265, 0.6116152 , 0.1657295 , 0.53134748,\n",
              "        0.65930747, 0.94962765],\n",
              "       [0.87299336, 0.19804044, 0.11003629, 0.3571147 , 0.00154597,\n",
              "        0.59387269, 0.41679394, 0.15541758, 0.56060226, 0.75236752,\n",
              "        0.84555048, 0.92585464],\n",
              "       [0.09450779, 0.28971896, 0.44442566, 0.14118828, 0.96637909,\n",
              "        0.15798319, 0.02802167, 0.83859742, 0.63459478, 0.47415046,\n",
              "        0.31497284, 0.89319819],\n",
              "       [0.48677275, 0.58840623, 0.58163044, 0.23116182, 0.72681158,\n",
              "        0.05008622, 0.4022334 , 0.61997417, 0.18434237, 0.93312316,\n",
              "        0.74467609, 0.43394146]])"
            ]
          },
          "metadata": {},
          "execution_count": 12
        }
      ]
    },
    {
      "cell_type": "code",
      "source": [
        "np.random.random_integers(1,10)#return sthe random intgers"
      ],
      "metadata": {
        "colab": {
          "base_uri": "https://localhost:8080/"
        },
        "id": "DA8yNUvZGLUq",
        "outputId": "3b60b3a6-7727-4f0a-d899-079ff6e97221"
      },
      "execution_count": 13,
      "outputs": [
        {
          "output_type": "stream",
          "name": "stderr",
          "text": [
            "<ipython-input-13-e8037d6a3438>:1: DeprecationWarning: This function is deprecated. Please call randint(1, 10 + 1) instead\n",
            "  np.random.random_integers(1,10)#return sthe random intgers\n"
          ]
        },
        {
          "output_type": "execute_result",
          "data": {
            "text/plain": [
              "10"
            ]
          },
          "metadata": {},
          "execution_count": 13
        }
      ]
    },
    {
      "cell_type": "code",
      "source": [],
      "metadata": {
        "id": "WKSXBKwbGd3p"
      },
      "execution_count": 13,
      "outputs": []
    },
    {
      "cell_type": "code",
      "source": [
        "dr = np.array([[1,2,3,4,5],[6,7,8,9,10]])\n",
        "print(dr)"
      ],
      "metadata": {
        "colab": {
          "base_uri": "https://localhost:8080/"
        },
        "id": "Yh6nPFG8wM2Y",
        "outputId": "9fa73c8f-b8c1-490a-9b4c-ea3d039ede81"
      },
      "execution_count": 14,
      "outputs": [
        {
          "output_type": "stream",
          "name": "stdout",
          "text": [
            "[[ 1  2  3  4  5]\n",
            " [ 6  7  8  9 10]]\n"
          ]
        }
      ]
    },
    {
      "cell_type": "code",
      "source": [
        "print(dr.dtype)# represent the datatype\n",
        "print(dr.itemsize)#displays th item size\n",
        "print(dr.ndim)# display the size of aray\n",
        "print(dr.shape)#returns the rows and colums\n",
        "print(dr.nbytes)#retruns the bytes\n",
        "print(dr.size)#retrns the totla element present in it"
      ],
      "metadata": {
        "colab": {
          "base_uri": "https://localhost:8080/"
        },
        "id": "Yg9q1NfczvpH",
        "outputId": "352c3379-36c1-43e9-f896-5c5a839874ed"
      },
      "execution_count": 15,
      "outputs": [
        {
          "output_type": "stream",
          "name": "stdout",
          "text": [
            "int64\n",
            "8\n",
            "2\n",
            "(2, 5)\n",
            "80\n",
            "10\n"
          ]
        }
      ]
    },
    {
      "cell_type": "code",
      "source": [
        "dx = np.array([[[1,2,3,4,5,6],[7,8,9,10,11,12]],[[13,14,15,16,17,18],[19,20,21,22,23,24]]])\n",
        "print(dx)"
      ],
      "metadata": {
        "colab": {
          "base_uri": "https://localhost:8080/"
        },
        "id": "mYUpQeul53X8",
        "outputId": "a0e42afd-f8d1-4636-8c04-ab98d4368193"
      },
      "execution_count": 16,
      "outputs": [
        {
          "output_type": "stream",
          "name": "stdout",
          "text": [
            "[[[ 1  2  3  4  5  6]\n",
            "  [ 7  8  9 10 11 12]]\n",
            "\n",
            " [[13 14 15 16 17 18]\n",
            "  [19 20 21 22 23 24]]]\n"
          ]
        }
      ]
    },
    {
      "cell_type": "code",
      "source": [
        "arr = np.array([[0,1,2,3,4,5]])\n",
        "print(arr)\n",
        "y = [arr % 2 == 0]\n",
        "print(y)"
      ],
      "metadata": {
        "colab": {
          "base_uri": "https://localhost:8080/"
        },
        "id": "AIhyb7Wc79ry",
        "outputId": "3c52b274-e1b3-41d4-92b8-4facc1c7404b"
      },
      "execution_count": 17,
      "outputs": [
        {
          "output_type": "stream",
          "name": "stdout",
          "text": [
            "[[0 1 2 3 4 5]]\n",
            "[array([[ True, False,  True, False,  True, False]])]\n"
          ]
        }
      ]
    },
    {
      "cell_type": "code",
      "source": [
        "arr = np.array([[1,2,3,4,5],[6,7,8,9,10]])\n",
        "arr"
      ],
      "metadata": {
        "colab": {
          "base_uri": "https://localhost:8080/"
        },
        "id": "_7wn6gj596vu",
        "outputId": "78bf051b-cc4d-4d5b-d361-68546346c88b"
      },
      "execution_count": 18,
      "outputs": [
        {
          "output_type": "execute_result",
          "data": {
            "text/plain": [
              "array([[ 1,  2,  3,  4,  5],\n",
              "       [ 6,  7,  8,  9, 10]])"
            ]
          },
          "metadata": {},
          "execution_count": 18
        }
      ]
    },
    {
      "cell_type": "code",
      "source": [
        "arr[0][1]"
      ],
      "metadata": {
        "colab": {
          "base_uri": "https://localhost:8080/"
        },
        "id": "gBW-Hzio-VoW",
        "outputId": "940d83f3-a1d8-4cfb-982a-844cbdd46f17"
      },
      "execution_count": 19,
      "outputs": [
        {
          "output_type": "execute_result",
          "data": {
            "text/plain": [
              "2"
            ]
          },
          "metadata": {},
          "execution_count": 19
        }
      ]
    },
    {
      "cell_type": "code",
      "source": [
        "arr[:,1:3]"
      ],
      "metadata": {
        "colab": {
          "base_uri": "https://localhost:8080/"
        },
        "id": "Jdrvqhy9AvoH",
        "outputId": "f12a9d5b-7b5a-4801-dba2-81511bef822c"
      },
      "execution_count": 20,
      "outputs": [
        {
          "output_type": "execute_result",
          "data": {
            "text/plain": [
              "array([[2, 3],\n",
              "       [7, 8]])"
            ]
          },
          "metadata": {},
          "execution_count": 20
        }
      ]
    },
    {
      "cell_type": "code",
      "source": [
        "print(arr.shape)"
      ],
      "metadata": {
        "colab": {
          "base_uri": "https://localhost:8080/"
        },
        "id": "p8CattRHOzo0",
        "outputId": "0e5be732-140e-47dc-eec3-9527e4634662"
      },
      "execution_count": 22,
      "outputs": [
        {
          "output_type": "stream",
          "name": "stdout",
          "text": [
            "(2, 5)\n"
          ]
        }
      ]
    },
    {
      "cell_type": "code",
      "source": [
        "arr[0,2:3] = [0]"
      ],
      "metadata": {
        "id": "qf-Knl_6PqIZ"
      },
      "execution_count": 23,
      "outputs": []
    },
    {
      "cell_type": "code",
      "source": [
        "arr[1] = [12,13,14,15,16]"
      ],
      "metadata": {
        "id": "gI5QJEPxQudy"
      },
      "execution_count": 27,
      "outputs": []
    },
    {
      "cell_type": "code",
      "source": [
        "arr"
      ],
      "metadata": {
        "colab": {
          "base_uri": "https://localhost:8080/"
        },
        "id": "xUBXhL13Q3Du",
        "outputId": "20aedd59-dd51-49a5-c5d0-4542999931d5"
      },
      "execution_count": 28,
      "outputs": [
        {
          "output_type": "execute_result",
          "data": {
            "text/plain": [
              "array([[ 1,  2,  0,  4,  5],\n",
              "       [12, 13, 14, 15, 16]])"
            ]
          },
          "metadata": {},
          "execution_count": 28
        }
      ]
    },
    {
      "cell_type": "markdown",
      "source": [
        "broadcasting"
      ],
      "metadata": {
        "id": "6-IkTwqTQ7s_"
      }
    },
    {
      "cell_type": "code",
      "source": [
        "np.array([[1,2,3],[4,5,6]])+np.array([[1,2,3],[4,5,6]])"
      ],
      "metadata": {
        "colab": {
          "base_uri": "https://localhost:8080/"
        },
        "id": "74osA7DKQ-pT",
        "outputId": "e4b7fadc-cbd6-4fb5-f635-b7555b9c0343"
      },
      "execution_count": 30,
      "outputs": [
        {
          "output_type": "execute_result",
          "data": {
            "text/plain": [
              "array([[ 2,  4,  6],\n",
              "       [ 8, 10, 12]])"
            ]
          },
          "metadata": {},
          "execution_count": 30
        }
      ]
    },
    {
      "cell_type": "code",
      "source": [
        "np.array([10,1,34])+np.array([100,200,300])"
      ],
      "metadata": {
        "colab": {
          "base_uri": "https://localhost:8080/"
        },
        "id": "cK1vUpGERlnL",
        "outputId": "5b257f77-8424-48b0-c719-96fb075ccfd1"
      },
      "execution_count": 31,
      "outputs": [
        {
          "output_type": "execute_result",
          "data": {
            "text/plain": [
              "array([110, 201, 334])"
            ]
          },
          "metadata": {},
          "execution_count": 31
        }
      ]
    },
    {
      "cell_type": "code",
      "source": [
        "np.random.randint(1,9,size=(4,4))"
      ],
      "metadata": {
        "colab": {
          "base_uri": "https://localhost:8080/"
        },
        "id": "M4nA2s9DR0xw",
        "outputId": "17579a07-6b88-45f4-dea3-fb3b1a83aeb8"
      },
      "execution_count": 34,
      "outputs": [
        {
          "output_type": "execute_result",
          "data": {
            "text/plain": [
              "array([[6, 3, 1, 5],\n",
              "       [8, 8, 3, 3],\n",
              "       [6, 7, 7, 5],\n",
              "       [8, 2, 2, 8]])"
            ]
          },
          "metadata": {},
          "execution_count": 34
        }
      ]
    },
    {
      "cell_type": "code",
      "source": [
        "a = np.zeros((10,10))\n",
        "a"
      ],
      "metadata": {
        "colab": {
          "base_uri": "https://localhost:8080/"
        },
        "id": "m6pIrsqSWkgJ",
        "outputId": "a6816669-68b7-4318-e373-a6e1b7a93a49"
      },
      "execution_count": 35,
      "outputs": [
        {
          "output_type": "execute_result",
          "data": {
            "text/plain": [
              "array([[0., 0., 0., 0., 0., 0., 0., 0., 0., 0.],\n",
              "       [0., 0., 0., 0., 0., 0., 0., 0., 0., 0.],\n",
              "       [0., 0., 0., 0., 0., 0., 0., 0., 0., 0.],\n",
              "       [0., 0., 0., 0., 0., 0., 0., 0., 0., 0.],\n",
              "       [0., 0., 0., 0., 0., 0., 0., 0., 0., 0.],\n",
              "       [0., 0., 0., 0., 0., 0., 0., 0., 0., 0.],\n",
              "       [0., 0., 0., 0., 0., 0., 0., 0., 0., 0.],\n",
              "       [0., 0., 0., 0., 0., 0., 0., 0., 0., 0.],\n",
              "       [0., 0., 0., 0., 0., 0., 0., 0., 0., 0.],\n",
              "       [0., 0., 0., 0., 0., 0., 0., 0., 0., 0.]])"
            ]
          },
          "metadata": {},
          "execution_count": 35
        }
      ]
    },
    {
      "cell_type": "code",
      "source": [
        "rep = np.repeat(arr, 4, axis=0)\n",
        "print(rep)\n",
        "print(rep.shape)"
      ],
      "metadata": {
        "colab": {
          "base_uri": "https://localhost:8080/"
        },
        "id": "fJF-klVVXrl1",
        "outputId": "c99880cb-c5f2-411d-c5ae-b7f96008b0d5"
      },
      "execution_count": 37,
      "outputs": [
        {
          "output_type": "stream",
          "name": "stdout",
          "text": [
            "[[ 1  2  0  4  5]\n",
            " [ 1  2  0  4  5]\n",
            " [ 1  2  0  4  5]\n",
            " [ 1  2  0  4  5]\n",
            " [12 13 14 15 16]\n",
            " [12 13 14 15 16]\n",
            " [12 13 14 15 16]\n",
            " [12 13 14 15 16]]\n",
            "(8, 5)\n"
          ]
        }
      ]
    },
    {
      "cell_type": "code",
      "source": [
        "arr2 = arr.copy()\n",
        "arr2"
      ],
      "metadata": {
        "colab": {
          "base_uri": "https://localhost:8080/"
        },
        "id": "7Z6ykBlJZQWV",
        "outputId": "838aba81-b2c1-4984-bb34-1a42bbdc3be5"
      },
      "execution_count": 39,
      "outputs": [
        {
          "output_type": "execute_result",
          "data": {
            "text/plain": [
              "array([[ 1,  2,  0,  4,  5],\n",
              "       [12, 13, 14, 15, 16]])"
            ]
          },
          "metadata": {},
          "execution_count": 39
        }
      ]
    },
    {
      "cell_type": "code",
      "source": [
        "np.random.randint(1,10,size=(5,5))"
      ],
      "metadata": {
        "colab": {
          "base_uri": "https://localhost:8080/"
        },
        "id": "1wpuQYjxZk3N",
        "outputId": "14c660a2-c56b-406b-a0b2-f82c7a898a00"
      },
      "execution_count": 42,
      "outputs": [
        {
          "output_type": "execute_result",
          "data": {
            "text/plain": [
              "array([[4, 4, 1, 4, 4],\n",
              "       [6, 9, 2, 7, 1],\n",
              "       [3, 5, 1, 5, 6],\n",
              "       [5, 3, 2, 7, 5],\n",
              "       [1, 3, 9, 9, 7]])"
            ]
          },
          "metadata": {},
          "execution_count": 42
        }
      ]
    },
    {
      "cell_type": "code",
      "source": [
        "ar = np.array([1,2,3,4,5])\n",
        "ab = np.array([4,5,6,7,8])\n",
        "\n",
        "print(np.vstack([ar,ab,ar,ab]))\n",
        "print(np.hstack([ab,ab,ar]))"
      ],
      "metadata": {
        "colab": {
          "base_uri": "https://localhost:8080/"
        },
        "id": "6eiAw_Nfah_g",
        "outputId": "8c67dc0c-4c87-45ff-f526-607288a88c7b"
      },
      "execution_count": 47,
      "outputs": [
        {
          "output_type": "stream",
          "name": "stdout",
          "text": [
            "[[1 2 3 4 5]\n",
            " [4 5 6 7 8]\n",
            " [1 2 3 4 5]\n",
            " [4 5 6 7 8]]\n",
            "[4 5 6 7 8 4 5 6 7 8 1 2 3 4 5]\n"
          ]
        }
      ]
    },
    {
      "cell_type": "code",
      "source": [],
      "metadata": {
        "id": "dQxy9ziYdNUW"
      },
      "execution_count": null,
      "outputs": []
    }
  ]
}